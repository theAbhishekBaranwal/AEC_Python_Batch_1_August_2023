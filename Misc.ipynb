{
 "cells": [
  {
   "cell_type": "markdown",
   "id": "1b3b3432-e18d-42f3-ac9a-9021a22d0a4d",
   "metadata": {},
   "source": [
    "### Python map() function"
   ]
  },
  {
   "cell_type": "markdown",
   "id": "5f5ff8f5-fb09-441c-999d-4918c1105a27",
   "metadata": {},
   "source": [
    "> The map() function executes a specified function for each item in an iterable.<br>\n",
    "> The item is sent to the function as a parameter,"
   ]
  },
  {
   "cell_type": "code",
   "execution_count": 2,
   "id": "3aacc399-6cab-4899-8c38-027935402d7f",
   "metadata": {},
   "outputs": [
    {
     "name": "stdout",
     "output_type": "stream",
     "text": [
      "['Sunday', 'Wednesday', 'Friday', 'Saturday']\n",
      "[6, 9, 6, 8]\n"
     ]
    }
   ],
   "source": [
    "def myfunc(mystr):\n",
    "    return len(mystr)\n",
    "\n",
    "list1 = [\"Sunday\", \"Wednesday\", \"Friday\", \"Saturday\"]\n",
    "print (list1)\n",
    "list2 = list(map(myfunc, list1))\n",
    "print (list2)"
   ]
  },
  {
   "cell_type": "code",
   "execution_count": 3,
   "id": "0f74bf4f-c847-4a98-8f2d-a9886161a718",
   "metadata": {},
   "outputs": [
    {
     "name": "stdout",
     "output_type": "stream",
     "text": [
      "['Sund', 'Wedne', 'F', 'Sa']\n",
      "['ay', 'sday', 'riday', 'turday']\n",
      "['Sunday', 'Wednesday', 'Friday', 'Saturday']\n"
     ]
    }
   ],
   "source": [
    "def myfunc(data1, data2):\n",
    "    return data1 + data2\n",
    "\n",
    "list1 = [\"Sund\", \"Wedne\", \"F\", \"Sa\"]\n",
    "list2 = [\"ay\", \"sday\", \"riday\", \"turday\"]\n",
    "print (list1)\n",
    "print (list2)\n",
    "list3 = list(map(myfunc, list1, list2))\n",
    "print (list3)"
   ]
  },
  {
   "cell_type": "code",
   "execution_count": 4,
   "id": "5b98d4dd-54bd-4de8-9bc4-6e5fc0825e17",
   "metadata": {},
   "outputs": [
    {
     "name": "stdout",
     "output_type": "stream",
     "text": [
      "[11, 33, 22, 44, 66]\n",
      "[100, 300, 200, 400, 600]\n",
      "[111, 333, 222, 444, 666]\n"
     ]
    }
   ],
   "source": [
    "def myfunc(data1, data2):\n",
    "    return data1 + data2\n",
    "\n",
    "list1 = [11, 33, 22, 44, 66]\n",
    "list2 = [100, 300, 200, 400, 600]\n",
    "print (list1)\n",
    "print (list2)\n",
    "list3 = list(map(myfunc, list1, list2))\n",
    "print (list3)"
   ]
  },
  {
   "cell_type": "markdown",
   "id": "7393522c-7fa8-4e8f-bcc3-12eb275a4ee9",
   "metadata": {},
   "source": [
    "### Python filter() function"
   ]
  },
  {
   "cell_type": "markdown",
   "id": "8fc3ef0c-cdf1-4007-8aec-839788ad539a",
   "metadata": {},
   "source": [
    "> The filter() function returns an iterator where the items are filters through a function to<br>\n",
    "> test if the item is accepted or not"
   ]
  },
  {
   "cell_type": "code",
   "execution_count": 5,
   "id": "2c1b1d77-3e0b-4d0a-962d-f71b89f94e0c",
   "metadata": {},
   "outputs": [
    {
     "name": "stdout",
     "output_type": "stream",
     "text": [
      "[45, 78, 65, 90]\n"
     ]
    }
   ],
   "source": [
    "def myfunct(x):\n",
    "    return True if (x >= 18) else False\n",
    "\n",
    "ages = [11, 5, 45, 12, 78, 65, 5, 90]\n",
    "adults = list(filter(myfunct, ages))\n",
    "print (adults)"
   ]
  },
  {
   "cell_type": "markdown",
   "id": "3591b902-7c1e-47d6-bf00-58c0f1a748bd",
   "metadata": {},
   "source": [
    "### Python reduce() function"
   ]
  },
  {
   "cell_type": "markdown",
   "id": "fac4e4a8-ac9e-4feb-96a1-21214cb7b5cd",
   "metadata": {},
   "source": [
    "> The reduce() function applies a functions of two arguments cumulatively to the elements<br>\n",
    "> of an iterable, optionally starting with an initial argument."
   ]
  },
  {
   "cell_type": "code",
   "execution_count": 7,
   "id": "85b21250-402a-4a63-b761-fa7b04a8d3de",
   "metadata": {},
   "outputs": [
    {
     "name": "stdout",
     "output_type": "stream",
     "text": [
      "First No. -> 10 and Second No. -> 30...\n",
      "First No. -> 40 and Second No. -> 20...\n",
      "First No. -> 60 and Second No. -> 40...\n",
      "First No. -> 100 and Second No. -> 50...\n",
      "First No. -> 150 and Second No. -> 45...\n",
      "195\n",
      "First No. -> 1000 and Second No. -> 10...\n",
      "First No. -> 1010 and Second No. -> 30...\n",
      "First No. -> 1040 and Second No. -> 20...\n",
      "First No. -> 1060 and Second No. -> 40...\n",
      "First No. -> 1100 and Second No. -> 50...\n",
      "First No. -> 1150 and Second No. -> 45...\n",
      "1195\n"
     ]
    }
   ],
   "source": [
    "from functools import reduce\n",
    "def custom_sum(first_num, second_num):\n",
    "    print (f\"First No. -> {first_num} and Second No. -> {second_num}...\")\n",
    "    return first_num + second_num\n",
    "\n",
    "numbers = [10, 30, 20, 40, 50, 45]\n",
    "result = reduce(custom_sum, numbers)\n",
    "print (result)\n",
    "\n",
    "result = reduce(custom_sum, numbers, 1000)\n",
    "print (result)"
   ]
  },
  {
   "cell_type": "markdown",
   "id": "26be6b20-bfca-4990-8ab5-4656119f7717",
   "metadata": {},
   "source": [
    "### Python zip() function"
   ]
  },
  {
   "cell_type": "code",
   "execution_count": 9,
   "id": "720cd76b-2444-4465-9483-afeb6244dcef",
   "metadata": {},
   "outputs": [
    {
     "name": "stdout",
     "output_type": "stream",
     "text": [
      "<zip object at 0x000001902E73EBC0>\n",
      "[('mango', 250), ('apple', 470), ('coconut', 890), ('orange', 256)]\n",
      "(('mango', 250), ('apple', 470), ('coconut', 890), ('orange', 256))\n",
      "{('apple', 470), ('orange', 256), ('coconut', 890), ('mango', 250)}\n",
      "{'mango': 250, 'apple': 470, 'coconut': 890, 'orange': 256}\n"
     ]
    }
   ],
   "source": [
    "fruits = [\"mango\", \"apple\", \"coconut\", \"orange\"]\n",
    "stocks = [250, 470, 890, 256, 870, 145]\n",
    "print (zip(fruits, stocks))\n",
    "print (list(zip(fruits, stocks)))\n",
    "print (tuple(zip(fruits, stocks)))\n",
    "print (set(zip(fruits, stocks)))\n",
    "print (dict(zip(fruits, stocks)))"
   ]
  },
  {
   "cell_type": "markdown",
   "id": "e0a384d3-92ab-4ddb-b92e-d53771d95b9a",
   "metadata": {},
   "source": [
    "### bisect_right and bisect_left"
   ]
  },
  {
   "cell_type": "code",
   "execution_count": 11,
   "id": "102ea69c-a44c-4230-bfab-fd79e8dd4953",
   "metadata": {},
   "outputs": [
    {
     "name": "stdout",
     "output_type": "stream",
     "text": [
      "4 4\n",
      "6 6\n",
      "4 5\n"
     ]
    }
   ],
   "source": [
    "from bisect import bisect_left\n",
    "from bisect import bisect_right\n",
    "\n",
    "list1 = [11, 22, 33, 44, 55, 66, 77]\n",
    "print (bisect_left(list1, 50), bisect_right(list1, 50))\n",
    "print (bisect_left(list1, 70), bisect_right(list1, 70))\n",
    "print (bisect_left(list1, 55), bisect_right(list1, 55))"
   ]
  },
  {
   "cell_type": "markdown",
   "id": "83158e1f-dd6e-4389-a30e-927c26e62160",
   "metadata": {},
   "source": [
    "### Cartesian product of list elements"
   ]
  },
  {
   "cell_type": "code",
   "execution_count": 13,
   "id": "b6925dc4-85fa-4d6a-a1d2-ea64ad5ef06c",
   "metadata": {},
   "outputs": [
    {
     "name": "stdout",
     "output_type": "stream",
     "text": [
      "[11, 22, 44, 33]\n",
      "[100, 200, 400, 300]\n",
      "[(11, 100), (11, 200), (11, 400), (11, 300), (22, 100), (22, 200), (22, 400), (22, 300), (44, 100), (44, 200), (44, 400), (44, 300), (33, 100), (33, 200), (33, 400), (33, 300)]\n"
     ]
    }
   ],
   "source": [
    "from itertools import product\n",
    "list1 = [11, 22, 44, 33]\n",
    "list2 = [100, 200, 400, 300]\n",
    "print (list1)\n",
    "print (list2)\n",
    "print (list(product(list1, list2)))"
   ]
  },
  {
   "cell_type": "markdown",
   "id": "e2191646-d42b-4810-9c44-9d7e776a806b",
   "metadata": {},
   "source": [
    "### Cycle"
   ]
  },
  {
   "cell_type": "code",
   "execution_count": 15,
   "id": "bcc0733a-a159-42fa-8ec7-8b3238f6eaf9",
   "metadata": {},
   "outputs": [
    {
     "name": "stdout",
     "output_type": "stream",
     "text": [
      "Amitava\n",
      "34.5\n",
      "True\n",
      "('Thane', 'Mumbai')\n",
      "65000\n",
      "Amitava\n",
      "34.5\n"
     ]
    }
   ],
   "source": [
    "import itertools\n",
    "items = itertools.cycle([\"Amitava\", 34.5, True, (\"Thane\", \"Mumbai\"), 65000])\n",
    "print (next(items))\n",
    "print (next(items))\n",
    "print (next(items))\n",
    "print (next(items))\n",
    "print (next(items))\n",
    "print (next(items))\n",
    "print (next(items))"
   ]
  },
  {
   "cell_type": "markdown",
   "id": "e3bf26fc-43d1-404f-b2f7-c872ffb0af99",
   "metadata": {},
   "source": [
    "### Sorting of a Matrix"
   ]
  },
  {
   "cell_type": "code",
   "execution_count": 20,
   "id": "0323f156-9e19-483a-8877-eb7817b5da89",
   "metadata": {},
   "outputs": [
    {
     "name": "stdout",
     "output_type": "stream",
     "text": [
      "[[100, 14, 6], [2, -22, -7], [-3, 8, 10], [40, -10, 1]]\n",
      "[[2, -22, -7], [40, -10, 1], [100, 14, 6], [-3, 8, 10]]\n",
      "[[2, -22, -7], [40, -10, 1], [-3, 8, 10], [100, 14, 6]]\n"
     ]
    }
   ],
   "source": [
    "list1 = [100, 2, -3, 40]\n",
    "list2 = [14, -22, 8, -10]\n",
    "list3 = [6, -7, 10, 1]\n",
    "final_list = []\n",
    "for i in range(len(list1)):\n",
    "    final_list.append([list1[i], list2[i], list3[i]])\n",
    "print (final_list)\n",
    "final_list1 = sorted(final_list, key = lambda v: v[-1])\n",
    "print (final_list1)\n",
    "final_list1 = sorted(final_list, key = lambda v: v[-2])\n",
    "print (final_list1)"
   ]
  },
  {
   "cell_type": "code",
   "execution_count": null,
   "id": "282ab84c-8179-47c5-969a-a500e19a8953",
   "metadata": {},
   "outputs": [],
   "source": [
    "[[100, 14, 6],\n",
    " [2,  -22, -7],\n",
    " [-3,   8, 10],\n",
    " [40, -10, 1]]\n",
    "[[2,  -22, -7],\n",
    " [40, -10, 1],\n",
    " [100, 14, 6],\n",
    " [ -3,  8, 10]]"
   ]
  },
  {
   "cell_type": "markdown",
   "id": "28720d5c-6084-47f6-93b9-3080b3f59328",
   "metadata": {},
   "source": [
    "### Multiple numbers taken at a time from user input"
   ]
  },
  {
   "cell_type": "code",
   "execution_count": 22,
   "id": "ff1d8f7f-729c-41c3-a6a2-b6df5573bbcb",
   "metadata": {},
   "outputs": [
    {
     "name": "stdin",
     "output_type": "stream",
     "text": [
      "Please enter your set of numbers:  11 33 245 670 250 -2\n"
     ]
    },
    {
     "name": "stdout",
     "output_type": "stream",
     "text": [
      "['11', '33', '245', '670', '250', '-2']\n"
     ]
    },
    {
     "name": "stdin",
     "output_type": "stream",
     "text": [
      "Please enter your set of numbers:  11 33 245 670 250 -2\n"
     ]
    },
    {
     "name": "stdout",
     "output_type": "stream",
     "text": [
      "[11, 33, 245, 670, 250, -2]\n"
     ]
    }
   ],
   "source": [
    "my_input = input(\"Please enter your set of numbers: \").split()\n",
    "print (my_input)\n",
    "my_input = list(map(int, input(\"Please enter your set of numbers: \").split()))\n",
    "print (my_input)"
   ]
  },
  {
   "cell_type": "code",
   "execution_count": 30,
   "id": "c7bc51ac-f9df-4f6c-aa9a-39667f2b4ab8",
   "metadata": {},
   "outputs": [
    {
     "name": "stdin",
     "output_type": "stream",
     "text": [
      " 11\n",
      " 22\n",
      " 33\n",
      " 44\n",
      " 55\n",
      " 66\n",
      " 77\n",
      " 88\n"
     ]
    },
    {
     "name": "stdout",
     "output_type": "stream",
     "text": [
      "[[11, 22, 33, 44], [55, 66, 77, 88]]\n"
     ]
    }
   ],
   "source": [
    "list1 = [[int(input()) for i in range(4)] for j in range(2)]\n",
    "print (list1)  # returns list of lists"
   ]
  },
  {
   "cell_type": "markdown",
   "id": "48142345-38cd-42eb-8ff7-031cf38b9b71",
   "metadata": {},
   "source": [
    "### List comprehension"
   ]
  },
  {
   "cell_type": "markdown",
   "id": "87977526-47c6-48f7-9838-31ba89ac235a",
   "metadata": {},
   "source": [
    "> List comprehension is a complete substitute to for loops, lambda function as well as<br>\n",
    "> the functions map(), filter(), reduce()"
   ]
  },
  {
   "cell_type": "code",
   "execution_count": 24,
   "id": "5938fb34-12c9-49b8-a494-0ca0e67f319b",
   "metadata": {},
   "outputs": [
    {
     "name": "stdout",
     "output_type": "stream",
     "text": [
      "[0, 1, 4, 9, 16, 25, 36, 49, 64, 81]\n",
      "[0, 1, 4, 9, 16, 25, 36, 49, 64, 81]\n"
     ]
    }
   ],
   "source": [
    "# replacing for loop to create a list\n",
    "list1 = []\n",
    "for x in range(10):\n",
    "    list1.append(x ** 2)\n",
    "print (list1)\n",
    "\n",
    "# using list comprehension\n",
    "list1 = [x ** 2 for x in range(10)]\n",
    "print (list1)"
   ]
  },
  {
   "cell_type": "code",
   "execution_count": 26,
   "id": "16bae582-5af1-4b8d-a404-d52ac7b2b703",
   "metadata": {},
   "outputs": [
    {
     "name": "stdout",
     "output_type": "stream",
     "text": [
      "[0, 2, 4, 6, 8, 10, 12, 14, 16, 18]\n",
      "[0, 2, 4, 6, 8, 10, 12, 14, 16, 18]\n"
     ]
    }
   ],
   "source": [
    "# replacing for loop to create a list\n",
    "list1 = []\n",
    "for x in range(10):\n",
    "    list1.append(2 * x)\n",
    "print (list1)\n",
    "\n",
    "# using list comprehension\n",
    "list1 = [2 * x for x in range(10)]\n",
    "print (list1)"
   ]
  },
  {
   "cell_type": "code",
   "execution_count": 34,
   "id": "8e4c8738-4671-4ff6-a258-6e4d202a74c3",
   "metadata": {},
   "outputs": [
    {
     "name": "stdout",
     "output_type": "stream",
     "text": [
      "[2, 4, 6, 8]\n",
      "[2, 4, 6, 8]\n"
     ]
    }
   ],
   "source": [
    "list1 = [1, 2, 3, 4, 5, 6, 7, 8]\n",
    "list2 = []\n",
    "for x in list1:\n",
    "    if (x % 2 == 0):\n",
    "        list2.append(x)\n",
    "print (list2)\n",
    "\n",
    "# using list comprehension\n",
    "list2 = [x for x in list1 if x % 2 == 0]\n",
    "print (list2)"
   ]
  },
  {
   "cell_type": "code",
   "execution_count": 40,
   "id": "c667c7c6-faa9-4ce3-9172-3156b5e2a008",
   "metadata": {},
   "outputs": [
    {
     "name": "stdout",
     "output_type": "stream",
     "text": [
      "[66, 666]\n",
      "[66, 666]\n",
      "[66, 666]\n"
     ]
    }
   ],
   "source": [
    "list1 = [11, 22, 33, 44, 55, 66, 77, 88, 99, 666]\n",
    "list2 = []\n",
    "for x in list1:\n",
    "    if (x % 2 == 0):\n",
    "        if (x % 3 == 0):\n",
    "            list2.append(x)\n",
    "print (list2)\n",
    "\n",
    "# using list comprehension\n",
    "list2 = [x for x in list1 if x % 2 == 0 if x % 3 == 0]\n",
    "print (list2)\n",
    "list2 = [x for x in list1 if x % 2 == 0 and x % 3 == 0]\n",
    "print (list2)"
   ]
  },
  {
   "cell_type": "code",
   "execution_count": 41,
   "id": "ad2c3c5d-7892-4e38-ac61-df56238035be",
   "metadata": {},
   "outputs": [
    {
     "name": "stdout",
     "output_type": "stream",
     "text": [
      "[2, 3, 4, 9, 10, 11, 12, 13]\n",
      "[2, 3, 4, 9, 10, 11, 12, 13]\n"
     ]
    }
   ],
   "source": [
    "list1 = [1, 2, 3, 4, 5, 6, 7, 8]\n",
    "list2 = []\n",
    "for x in list1:\n",
    "    if (x >= 4): list2.append(x + 5)\n",
    "    else: list2.append(x + 1)\n",
    "print (list2)\n",
    "\n",
    "# using list comprehension\n",
    "list2 = [x + 5 if x >= 4 else x + 1 for x in list1]\n",
    "print (list2)"
   ]
  },
  {
   "cell_type": "code",
   "execution_count": 44,
   "id": "d255c93c-9469-4d89-b042-d49b47d3ac7a",
   "metadata": {},
   "outputs": [
    {
     "name": "stdout",
     "output_type": "stream",
     "text": [
      "[1, 2, 3, 4, 5, 6, 7, 8, 9]\n",
      "[1, 2, 3, 4, 5, 6, 7, 8, 9]\n"
     ]
    }
   ],
   "source": [
    "list1 = [[1, 2, 3], [4, 5, 6], [7, 8, 9]]\n",
    "list2 = []\n",
    "for temp_list in list1:\n",
    "    for x in temp_list:\n",
    "        list2.append(x)\n",
    "print (list2)\n",
    "\n",
    "# using list comprehension, flatten a list\n",
    "list2 = [item for sub_list in list1 for item in sub_list]\n",
    "print (list2)"
   ]
  },
  {
   "cell_type": "code",
   "execution_count": 47,
   "id": "d5c1fa92-085a-4d57-b20e-ec9f0ef34057",
   "metadata": {},
   "outputs": [
    {
     "name": "stdout",
     "output_type": "stream",
     "text": [
      "[[0, 0, 0, 0], [0, 0, 0, 0], [0, 0, 0, 0]]\n",
      "[[0, 0, 0, 0], [0, 0, 0, 0], [0, 0, 0, 0]]\n"
     ]
    }
   ],
   "source": [
    "list1 = []\n",
    "for x in range(3):\n",
    "    temp_list = []\n",
    "    for y in range(4):\n",
    "        temp_list.append(0)\n",
    "    list1.append(temp_list)\n",
    "print (list1)\n",
    "\n",
    "# using list comprehension\n",
    "list1 = [[0 for col in range(4)] for row in range(3)]\n",
    "print (list1)"
   ]
  },
  {
   "cell_type": "code",
   "execution_count": 49,
   "id": "0e78a288-4bf9-4873-98c6-9d3a433f5710",
   "metadata": {},
   "outputs": [
    {
     "name": "stdout",
     "output_type": "stream",
     "text": [
      "[[], [0], [0, 0], [0, 0, 0]]\n",
      "[[], [0], [0, 0], [0, 0, 0]]\n"
     ]
    }
   ],
   "source": [
    "list1 = []\n",
    "for x in range(4):\n",
    "    temp_list = []\n",
    "    for y in range(x):\n",
    "        temp_list.append(0)\n",
    "    list1.append(temp_list)\n",
    "print (list1)\n",
    "\n",
    "# using list comprehension\n",
    "list1 = [[0 for col in range(row)] for row in range(4)]\n",
    "print (list1)"
   ]
  },
  {
   "cell_type": "code",
   "execution_count": 54,
   "id": "5d39a4e1-fda8-4589-aa67-3031f8bcc239",
   "metadata": {},
   "outputs": [
    {
     "name": "stdout",
     "output_type": "stream",
     "text": [
      "[20, 40, 60, 80, 100]\n",
      "[6, 6, 6, 6, 6]\n"
     ]
    }
   ],
   "source": [
    "# replacing map() function\n",
    "list1 = [10, 20, 30, 40, 50]\n",
    "list2 = list(map(lambda x: 2 * x, list1))\n",
    "print (list2)\n",
    "\n",
    "# using list comprehension\n",
    "list2 = [2 * x for s in list1]\n",
    "print (list2)"
   ]
  },
  {
   "cell_type": "code",
   "execution_count": 57,
   "id": "fbd1df9b-3c7b-42fd-a57c-38db5db42d10",
   "metadata": {},
   "outputs": [
    {
     "name": "stdout",
     "output_type": "stream",
     "text": [
      "9\n",
      "[1, 3, 5, 7, 9]\n"
     ]
    }
   ],
   "source": [
    "for i in range(10):\n",
    "    pass\n",
    "print (i)\n",
    "print (list(range(1, 10, 2)))"
   ]
  },
  {
   "cell_type": "code",
   "execution_count": 59,
   "id": "1ad5d1c0-a6f2-422d-9509-89f73234c489",
   "metadata": {},
   "outputs": [
    {
     "name": "stdout",
     "output_type": "stream",
     "text": [
      "[11, 33, 55]\n",
      "[11, 33, 55]\n"
     ]
    }
   ],
   "source": [
    "# replacing filter() function\n",
    "list1 = [11, 22, 33, 44, 55, 66]\n",
    "oddnum = list(filter(lambda x: x % 2, list1))\n",
    "print (oddnum)\n",
    "\n",
    "# using list comprehension\n",
    "oddnum = [x for x in list1 if x % 2 == 1]\n",
    "print (oddnum)"
   ]
  },
  {
   "cell_type": "code",
   "execution_count": 62,
   "id": "2829ca9b-93e9-43dd-a664-de73cf911f7d",
   "metadata": {},
   "outputs": [
    {
     "name": "stdout",
     "output_type": "stream",
     "text": [
      "231\n",
      "231\n"
     ]
    }
   ],
   "source": [
    "# replacing reduce() function\n",
    "from functools import reduce\n",
    "list1 = [11, 22, 33, 44, 55, 66]\n",
    "result = reduce(lambda n, m: n + m, list1)\n",
    "print (result)\n",
    "\n",
    "# using list comprehension\n",
    "result = sum([x for x in list1])\n",
    "print (result)"
   ]
  },
  {
   "cell_type": "code",
   "execution_count": null,
   "id": "98eab7d7-9b27-4d8e-a861-7215e9c570ee",
   "metadata": {},
   "outputs": [],
   "source": []
  }
 ],
 "metadata": {
  "kernelspec": {
   "display_name": "Python 3 (ipykernel)",
   "language": "python",
   "name": "python3"
  },
  "language_info": {
   "codemirror_mode": {
    "name": "ipython",
    "version": 3
   },
   "file_extension": ".py",
   "mimetype": "text/x-python",
   "name": "python",
   "nbconvert_exporter": "python",
   "pygments_lexer": "ipython3",
   "version": "3.10.9"
  }
 },
 "nbformat": 4,
 "nbformat_minor": 5
}
